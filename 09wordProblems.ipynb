{
 "cells": [
  {
   "cell_type": "markdown",
   "id": "9ea69c28-7a04-4a4e-9d89-8eccbf3e0843",
   "metadata": {},
   "source": [
    "# Key Words\n",
    "\n",
    "### Add\n",
    "plus, more, increased, and, recieved, up, added, sum\n",
    "\n",
    "### Subtract\n",
    "minus, less, decreased, gave, down, subtracted, difference\n",
    "\n",
    "### Multiply\n",
    "by, of , factor, times, area\n",
    "\n",
    "### Divide\n",
    "out of, per, quotient, rate, divided"
   ]
  }
 ],
 "metadata": {
  "kernelspec": {
   "display_name": "Python 3 (ipykernel)",
   "language": "python",
   "name": "python3"
  },
  "language_info": {
   "codemirror_mode": {
    "name": "ipython",
    "version": 3
   },
   "file_extension": ".py",
   "mimetype": "text/x-python",
   "name": "python",
   "nbconvert_exporter": "python",
   "pygments_lexer": "ipython3",
   "version": "3.11.1"
  }
 },
 "nbformat": 4,
 "nbformat_minor": 5
}
