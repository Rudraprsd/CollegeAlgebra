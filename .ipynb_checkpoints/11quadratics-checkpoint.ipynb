{
 "cells": [
  {
   "cell_type": "markdown",
   "id": "f38e2785-c348-4ff8-8f56-09c2c90dede3",
   "metadata": {},
   "source": [
    "## general quadratic equation\n",
    "$y = Ax^2 + Bx + c$\n",
    "\n",
    "If it is symmetrical then, $ x = \\frac{-B}{2A}$\n",
    "\n",
    "If you want to find, the value of x when the graph intersected in x-axis, then put the value of y = 0. it will solve for x. \n",
    "i.e. $0 = Ax^2 + Bx + c$\n",
    "\n",
    "roots = $\\frac{-B \\pm \\sqrt{B^2 - 4AC}}{2A}$"
   ]
  },
  {
   "cell_type": "code",
   "execution_count": 4,
   "id": "3479c12c-0f20-49f5-9dcb-1e29c0ec6f26",
   "metadata": {
    "tags": []
   },
   "outputs": [
    {
     "name": "stdout",
     "output_type": "stream",
     "text": [
      "y = 4x**2 + 3x + 2\n",
      "Vertex = (-0.375,1.4375)\n",
      "No real roots\n"
     ]
    }
   ],
   "source": [
    "# Put the value of coeffiecient\n",
    "a = 4\n",
    "b = 3\n",
    "c = 2\n",
    "\n",
    "# Display the equation \n",
    "print(f\"y = {a}x**2 + {b}x + {c}\")\n",
    "\n",
    "# Find the vertex \n",
    "v_x = -b/(2*a)\n",
    "v_y = a*(v_x**2) + b*v_x + c\n",
    "print(f\"Vertex = ({v_x},{v_y})\")\n",
    "\n",
    "# find the roots\n",
    "root = b**2 - 4*a*c\n",
    "if root>=0 :\n",
    "    root1 = (-b + math.sqrt(root))/(2*a)\n",
    "    root2 = (-b - math.sqrt(root))/(2*a)\n",
    "    print(f\"Roots = {root1} and {root2}\")\n",
    "else:\n",
    "    print(f\"No real roots\")\n",
    "    \n"
   ]
  },
  {
   "cell_type": "markdown",
   "id": "dcad90c7-5a74-49d5-8fb9-e1acde863224",
   "metadata": {},
   "source": [
    "### As a function "
   ]
  },
  {
   "cell_type": "code",
   "execution_count": 6,
   "id": "249bc0f5-7972-415e-a791-c0113f009118",
   "metadata": {
    "tags": []
   },
   "outputs": [
    {
     "name": "stdout",
     "output_type": "stream",
     "text": [
      "y = 5x**2 + 3x + 2\n",
      "Vertex = (-0.3,1.55)\n",
      "No real roots\n"
     ]
    }
   ],
   "source": [
    "def rootQuad(a, b , c):\n",
    "    # Display the equation \n",
    "    print(f\"y = {a}x**2 + {b}x + {c}\")\n",
    "\n",
    "    # Find the vertex \n",
    "    v_x = -b/(2*a)\n",
    "    v_y = a*(v_x**2) + b*v_x + c\n",
    "    print(f\"Vertex = ({v_x},{v_y})\")\n",
    "\n",
    "    # find the roots\n",
    "    root = b**2 - 4*a*c\n",
    "    if root>=0:\n",
    "        root1 = (-b + math.sqrt(root))/(2*a)\n",
    "        root2 = (-b - math.sqrt(root))/(2*a)\n",
    "        print(f\"Roots = {root1} and {root2}\")\n",
    "    else:\n",
    "        print(f\"No real roots\")\n",
    "\n",
    "# put the value of a, b, c i.e. coefficients inside function resp.\n",
    "rootQuad(5, 3, 2)"
   ]
  },
  {
   "cell_type": "markdown",
   "id": "be9fb706-8c75-41fd-b282-01b8a1b76307",
   "metadata": {},
   "source": [
    "## Graphing"
   ]
  },
  {
   "cell_type": "code",
   "execution_count": 21,
   "id": "4ec6999a-0b24-4768-aaef-210bec0e25d1",
   "metadata": {
    "tags": []
   },
   "outputs": [
    {
     "name": "stdout",
     "output_type": "stream",
     "text": [
      "y = 2x**2 + 4x + 1\n",
      "Vertex = (-1.0,-1.0)\n",
      "Roots = -0.2928932188134524 and -1.7071067811865475\n"
     ]
    },
    {
     "data": {
      "image/png": "[encoded data removed]",
      "text/plain": [
       "<Figure size 640x480 with 1 Axes>"
      ]
     },
     "metadata": {},
     "output_type": "display_data"
    }
   ],
   "source": [
    "import matplotlib.pyplot as plt\n",
    "import numpy as np \n",
    "import math\n",
    "\n",
    "# Put the value of coeffiecient\n",
    "a = 2\n",
    "b = 4\n",
    "c = 1\n",
    "\n",
    "# Display the equation \n",
    "print(f\"y = {a}x**2 + {b}x + {c}\")\n",
    "\n",
    "\n",
    "xmin = -10 \n",
    "xmax = 10 \n",
    "ymin = -10 \n",
    "ymax = 10\n",
    "points = 10*(xmax - xmin)\n",
    "x = np.linspace(xmin, xmax, points)\n",
    "\n",
    "plt.axis([xmin, xmax, ymin, ymax]) # window size\n",
    "plt.plot([xmin, xmax],[0,0], 'b') # x axis\n",
    "plt.plot([0,0],[ymin, ymax], 'b') # y axis\n",
    "\n",
    "# graph the parabola\n",
    "y1 = a*x**2 + b*x + c\n",
    "plt.plot(x, y1)\n",
    "\n",
    "# Find the vertex \n",
    "v_x = -b/(2*a)\n",
    "v_y = a*(v_x**2) + b*v_x + c\n",
    "print(f\"Vertex = ({v_x},{v_y})\")\n",
    "\n",
    "plt.plot([v_x], [v_y], 'ro')\n",
    "\n",
    "# find the roots\n",
    "root = b**2 - 4*a*c\n",
    "if root>=0 :\n",
    "    root1 = (-b + math.sqrt(root))/(2*a)\n",
    "    root2 = (-b - math.sqrt(root))/(2*a)\n",
    "    plt.plot([root1, root2],[0,0], 'go')\n",
    "    print(f\"Roots = {root1} and {root2}\")\n",
    "else:\n",
    "    print(f\"No real roots\")\n",
    "    \n",
    "plt.show()"
   ]
  },
  {
   "cell_type": "markdown",
   "id": "6eb1b09b-e68a-4d8e-99db-a1cd9360ebf8",
   "metadata": {},
   "source": [
    "### Interactive plot"
   ]
  },
  {
   "cell_type": "code",
   "execution_count": 24,
   "id": "fe6e6835-7b49-4904-ad0d-57443dfbdc6f",
   "metadata": {
    "tags": []
   },
   "outputs": [
    {
     "data": {
      "application/vnd.jupyter.widget-view+json": {
       "model_id": "341f5262e16e4bdfb9d44e2372a3637e",
       "version_major": 2,
       "version_minor": 0
      },
      "text/plain": [
       "interactive(children=(IntSlider(value=5, description='a', max=9, min=1), IntSlider(value=0, description='b', m…"
      ]
     },
     "execution_count": 24,
     "metadata": {},
     "output_type": "execute_result"
    }
   ],
   "source": [
    "%matplotlib inline\n",
    "from ipywidgets import interactive\n",
    "import matplotlib.pyplot as plt\n",
    "import numpy as np \n",
    "import math\n",
    "\n",
    "# we have to define a fucntion for interactive plot\n",
    "def f(a, b, c):\n",
    "    xmin = -10 \n",
    "    xmax = 10 \n",
    "    ymin = -10 \n",
    "    ymax = 10\n",
    "    points = 10*(xmax - xmin)\n",
    "    x = np.linspace(xmin, xmax, points)\n",
    "    \n",
    "    plt.axis([xmin, xmax, ymin, ymax]) # window size\n",
    "    plt.plot([xmin, xmax],[0,0], 'b') # x axis\n",
    "    plt.plot([0,0],[ymin, ymax], 'b') # y axis\n",
    "    \n",
    "    # graph the parabola\n",
    "    y1 = a*x**2 + b*x + c\n",
    "    plt.plot(x, y1)\n",
    "    \n",
    "    # Find the vertex \n",
    "    v_x = -b/(2*a)\n",
    "    v_y = a*(v_x**2) + b*v_x + c\n",
    "    plt.plot([v_x], [v_y], 'ro') \n",
    "    \n",
    "    root = b**2 - 4*a*c\n",
    "    if root>=0 :\n",
    "        root1 = (-b + math.sqrt(root))/(2*a)\n",
    "        root2 = (-b - math.sqrt(root))/(2*a)\n",
    "        plt.plot([root1, root2],[0,0], 'go')\n",
    "        print(f\"Roots = {root1} and {root2}\")\n",
    "    else:\n",
    "        print(f\"No real roots\")\n",
    "        \n",
    "    # Set the equation as a title\n",
    "    sa = str(a)\n",
    "    sb = str(b)\n",
    "    sc = str(c)\n",
    "    \n",
    "    h1 = \"y = \", sa, \"x**2 + \", sb, \"x + \" , sc\n",
    "    h2 = \" \"\n",
    "    \n",
    "    for w in h1:\n",
    "        h2 = h2 + w\n",
    "        \n",
    "        \n",
    "    plt.title(h2)\n",
    "    plt.show()\n",
    "    \n",
    "# Interactive creates sliders for a, b, and c values\n",
    "interactive_plot = interactive(f, a =(1,9), b = (-9,9), c = (-9,9))\n",
    "interactive_plot\n",
    "    \n",
    "\n",
    "\n",
    "\n"
   ]
  },
  {
   "cell_type": "markdown",
   "id": "fba9d12d-426f-486b-b767-f52ca3d429fd",
   "metadata": {},
   "source": [
    "## Improved code by chatGPT"
   ]
  },
  {
   "cell_type": "code",
   "execution_count": 31,
   "id": "2e455507-f30d-4af0-87af-e2aa73e0f10e",
   "metadata": {
    "tags": []
   },
   "outputs": [
    {
     "data": {
      "application/vnd.jupyter.widget-view+json": {
       "model_id": "7457a7a302394aa3a134fd833fae0c92",
       "version_major": 2,
       "version_minor": 0
      },
      "text/plain": [
       "interactive(children=(IntSlider(value=5, description='a', max=9, min=1), IntSlider(value=0, description='b', m…"
      ]
     },
     "execution_count": 31,
     "metadata": {},
     "output_type": "execute_result"
    }
   ],
   "source": [
    "import matplotlib.pyplot as plt\n",
    "import numpy as np \n",
    "import math\n",
    "from ipywidgets import interactive\n",
    "\n",
    "def plot_quadratic(a, b, c):\n",
    "    xmin, xmax = -10, 10\n",
    "    ymin, ymax = -10, 10\n",
    "    points = 100  # Increase the number of points for a smoother curve\n",
    "    x = np.linspace(xmin, xmax, points)\n",
    "\n",
    "    plt.axis([xmin, xmax, ymin, ymax])\n",
    "    plt.plot([xmin, xmax], [0, 0], 'b')\n",
    "    plt.plot([0, 0], [ymin, ymax], 'b')\n",
    "\n",
    "    y = a * x ** 2 + b * x + c\n",
    "    plt.plot(x, y)\n",
    "\n",
    "    vertex_x = -b / (2 * a)\n",
    "    vertex_y = a * vertex_x ** 2 + b * vertex_x + c\n",
    "    plt.plot([vertex_x], [vertex_y], 'ro')\n",
    "\n",
    "    discriminant = b ** 2 - 4 * a * c\n",
    "    if discriminant >= 0:\n",
    "        root1 = (-b + math.sqrt(discriminant)) / (2 * a)\n",
    "        root2 = (-b - math.sqrt(discriminant)) / (2 * a)\n",
    "        plt.plot([root1, root2], [0, 0], 'go')\n",
    "        print(f\"Roots = {root1} and {root2}\")\n",
    "    else:\n",
    "        print(\"No real roots\")\n",
    "\n",
    "    equation = f\"y = {a}x^2 + {b}x + {c}\"\n",
    "    plt.title(equation)\n",
    "    plt.show()\n",
    "\n",
    "# Interactive creates sliders for a, b, and c values\n",
    "interactive_plot = interactive(plot_quadratic, a=(1, 9), b=(-9, 9), c=(-9, 9))\n",
    "interactive_plot"
   ]
  },
  {
   "cell_type": "code",
   "execution_count": 32,
   "id": "605e4fa8-cd5d-40bd-b745-e6da88f93d3f",
   "metadata": {
    "tags": []
   },
   "outputs": [
    {
     "data": {
      "image/png": "[encoded data removed]",
      "text/plain": [
       "<Figure size 640x480 with 1 Axes>"
      ]
     },
     "metadata": {},
     "output_type": "display_data"
    }
   ],
   "source": []
  }
 ],
 "metadata": {
  "kernelspec": {
   "display_name": "Python 3 (ipykernel)",
   "language": "python",
   "name": "python3"
  },
  "language_info": {
   "codemirror_mode": {
    "name": "ipython",
    "version": 3
   },
   "file_extension": ".py",
   "mimetype": "text/x-python",
   "name": "python",
   "nbconvert_exporter": "python",
   "pygments_lexer": "ipython3",
   "version": "3.11.1"
  }
 },
 "nbformat": 4,
 "nbformat_minor": 5
}
