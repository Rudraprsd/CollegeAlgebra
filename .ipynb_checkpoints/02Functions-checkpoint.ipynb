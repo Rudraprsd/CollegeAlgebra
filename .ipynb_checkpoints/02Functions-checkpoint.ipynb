{
 "cells": [
  {
   "cell_type": "code",
   "execution_count": 18,
   "metadata": {
    "id": "0VGyo-ZBC8hH",
    "tags": []
   },
   "outputs": [
    {
     "name": "stdout",
     "output_type": "stream",
     "text": [
      "2 x=  23\n"
     ]
    },
    {
     "name": "stdin",
     "output_type": "stream",
     "text": [
      "x=  11.5\n"
     ]
    },
    {
     "name": "stdout",
     "output_type": "stream",
     "text": [
      "Correct \n",
      "\n"
     ]
    }
   ],
   "source": [
    "#Converts string input ( including functions ) to float\n",
    "# there is always 4 spaces in indentation in python. for, function or def, if , else, etc. for all \n",
    "# one tab is 2 spaces, so you can put 2 tabs also.\n",
    "def string_frac(in_string):\n",
    "    try:\n",
    "        if \"/\" in in_string:\n",
    "            # here, it will split the input if there is / and save it to nd variable. so there is now two array or two element in a set.\n",
    "            nd = in_string.split(\"/\")\n",
    "            n = float(nd[0])\n",
    "            d = float(nd[1])\n",
    "            ans = n/d\n",
    "            return ans\n",
    "        else:\n",
    "            ans = float(in_string)\n",
    "            return ans\n",
    "    except:\n",
    "        ans = float(in_string)\n",
    "        return ans\n",
    "        \n",
    "        \n",
    "    \n",
    "        \n",
    "        \n",
    "    \n",
    "# One step multiply\n",
    "def one_step_mult():\n",
    "    #here in one_step_mult() function it will not take any input as it has nothing in bracket.\n",
    "    import random\n",
    "    a = random.randint(1,11)\n",
    "    b = random.randint(2,24)\n",
    "    print(a ,\"x= \", b)\n",
    "    ans_in = input(\"x= \")\n",
    "    answer = b/a\n",
    "    if string_frac(ans_in)==answer:\n",
    "        print(\"Correct \\n\")\n",
    "    else:\n",
    "        print(\"Try Again! \\n\")\n",
    "        print(f\"The correct answer is {answer} \\n\")\n",
    "        \n",
    "string_frac(54)\n",
    "one_step_mult()\n",
    "        \n",
    "    "
   ]
  },
  {
   "cell_type": "markdown",
   "metadata": {},
   "source": [
    "# Functions (Maths) "
   ]
  },
  {
   "cell_type": "code",
   "execution_count": 19,
   "metadata": {
    "tags": []
   },
   "outputs": [
    {
     "name": "stdout",
     "output_type": "stream",
     "text": [
      "x \t y\n",
      "0 \t 2\n",
      "1 \t 6\n",
      "2 \t 10\n",
      "3 \t 14\n",
      "4 \t 18\n",
      "5 \t 22\n",
      "6 \t 26\n",
      "7 \t 30\n",
      "8 \t 34\n",
      "9 \t 38\n",
      "10 \t 42\n"
     ]
    }
   ],
   "source": [
    "print(\"x \\t y\")\n",
    "for x in range(11):\n",
    "    y = 4*x +2  #The Function\n",
    "    print(f\"{x} \\t {y}\")"
   ]
  },
  {
   "cell_type": "markdown",
   "metadata": {},
   "source": [
    "# Define a Python Function "
   ]
  },
  {
   "cell_type": "code",
   "execution_count": 24,
   "metadata": {
    "tags": []
   },
   "outputs": [
    {
     "name": "stdout",
     "output_type": "stream",
     "text": [
      "2 6\n"
     ]
    },
    {
     "name": "stdin",
     "output_type": "stream",
     "text": [
      "Enter number for application of function:  10\n"
     ]
    },
    {
     "name": "stdout",
     "output_type": "stream",
     "text": [
      "0 \t 3\n",
      "1 \t 8\n",
      "2 \t 13\n",
      "3 \t 18\n",
      "4 \t 23\n",
      "5 \t 28\n",
      "6 \t 33\n",
      "7 \t 38\n",
      "8 \t 43\n",
      "9 \t 48\n"
     ]
    }
   ],
   "source": [
    "def f(x):\n",
    "    y = 2*x + 2\n",
    "    return y\n",
    "\n",
    "print(f\"2 {f(2)}\")\n",
    "\n",
    "#This function will write and apply the function n times by running loop.\n",
    "def loopfunction(n):\n",
    "    for x in range(n):\n",
    "        y = 5*x + 3\n",
    "        print(f\"{x} \\t {y}\")\n",
    "\n",
    "# Enter the input here. By default input is string, We converted it to integer, so that it will run inside for loop in loopfunction.\n",
    "p = int(input(\"Enter number for application of function: \"))\n",
    "loopfunction(p)"
   ]
  },
  {
   "cell_type": "code",
   "execution_count": null,
   "metadata": {},
   "outputs": [],
   "source": []
  }
 ],
 "metadata": {
  "colab": {
   "authorship_tag": "ABX9TyNoYIvd8J5I0tEkdRu5btxt",
   "provenance": []
  },
  "kernelspec": {
   "display_name": "Python 3 (ipykernel)",
   "language": "python",
   "name": "python3"
  },
  "language_info": {
   "codemirror_mode": {
    "name": "ipython",
    "version": 3
   },
   "file_extension": ".py",
   "mimetype": "text/x-python",
   "name": "python",
   "nbconvert_exporter": "python",
   "pygments_lexer": "ipython3",
   "version": "3.11.1"
  }
 },
 "nbformat": 4,
 "nbformat_minor": 4
}
