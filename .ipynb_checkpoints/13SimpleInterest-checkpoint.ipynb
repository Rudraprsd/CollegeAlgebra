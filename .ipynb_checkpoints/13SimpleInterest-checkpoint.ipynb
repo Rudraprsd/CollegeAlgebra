{
 "cells": [
  {
   "cell_type": "markdown",
   "id": "96b80ae9-4dd8-466f-85a6-2802f0d9c6f4",
   "metadata": {},
   "source": [
    "## Simple and compound Interest"
   ]
  },
  {
   "cell_type": "code",
   "execution_count": 14,
   "id": "f5320aee-37b9-43c4-a3ce-ae0624509e65",
   "metadata": {
    "tags": []
   },
   "outputs": [
    {
     "name": "stdout",
     "output_type": "stream",
     "text": [
      "Interest = 3000.0\n",
      "Amount = 13000.0\n"
     ]
    }
   ],
   "source": [
    "# Simple Interest\n",
    "def simple(p, t, r):\n",
    "    I = (p*t*r)/100\n",
    "    print(f\"Interest = {I}\")\n",
    "    print(f\"Amount = {p + I}\")\n",
    "simple(10000, 5, 6)"
   ]
  },
  {
   "cell_type": "code",
   "execution_count": 17,
   "id": "3d36790c-518d-42d6-a474-973a2c09f56d",
   "metadata": {
    "tags": []
   },
   "outputs": [
    {
     "name": "stdout",
     "output_type": "stream",
     "text": [
      "Interest = 3382.26\n",
      "Amount = 13382.26\n"
     ]
    }
   ],
   "source": [
    "# Compound Interest\n",
    "def compound(p, t, r, n):\n",
    "    # n = no. of times interest is compounded  \n",
    "    A = p*(1 + (r/n))**(n*t)\n",
    "    print(f\"Interest = {round(A - p, 2)}\")\n",
    "    print(f\"Amount = {round(A, 2)}\")\n",
    "    # all are rounded off to 2 decimal places. \n",
    "    \n",
    "compound(10000, 5, 0.06, 1)"
   ]
  },
  {
   "cell_type": "markdown",
   "id": "3cdee758-d361-4d9a-94b6-95b605629e8a",
   "metadata": {},
   "source": [
    "### Irrational number e"
   ]
  },
  {
   "cell_type": "code",
   "execution_count": 19,
   "id": "ebe8544f-9187-4bf1-b0be-30c3d26d86e6",
   "metadata": {
    "tags": []
   },
   "outputs": [
    {
     "name": "stdout",
     "output_type": "stream",
     "text": [
      "2.718281828459045\n"
     ]
    }
   ],
   "source": [
    "import math\n",
    "print(math.e)"
   ]
  }
 ],
 "metadata": {
  "kernelspec": {
   "display_name": "Python 3 (ipykernel)",
   "language": "python",
   "name": "python3"
  },
  "language_info": {
   "codemirror_mode": {
    "name": "ipython",
    "version": 3
   },
   "file_extension": ".py",
   "mimetype": "text/x-python",
   "name": "python",
   "nbconvert_exporter": "python",
   "pygments_lexer": "ipython3",
   "version": "3.11.1"
  }
 },
 "nbformat": 4,
 "nbformat_minor": 5
}
