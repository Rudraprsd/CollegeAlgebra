{
 "cells": [
  {
   "cell_type": "markdown",
   "id": "3eae5360-dfb1-4744-bd33-a0d66649b7f6",
   "metadata": {},
   "source": [
    "#Fractions and Decimals"
   ]
  },
  {
   "cell_type": "markdown",
   "id": "0b7eedcb-4c76-460c-b5ab-741af1d3fb53",
   "metadata": {},
   "source": [
    "In 23.46 , 2 is in tens place, 3 in unit, 4 in tenth, 6 in hundredth.\n",
    "so, if you want to convert the decimal to fraction, then for .234, 234/1000 i.e. 4 is in thousandth place, so whole number divided by 1000."
   ]
  },
  {
   "cell_type": "markdown",
   "id": "eb706303-ede2-46b3-912a-7d6e01dbed91",
   "metadata": {},
   "source": [
    "If it is repeating or continuous decimal, then we know the x and 10x trick. We have to know the at how much interval it keeps repeats itself. Like in .090909 it repeating at 09 i.e. at 100 interval , then we have to find 100x then 100x - x = 99x"
   ]
  },
  {
   "cell_type": "code",
   "execution_count": 1,
   "id": "d246b523-4e00-4492-823c-2a11d745da2a",
   "metadata": {
    "tags": []
   },
   "outputs": [
    {
     "name": "stdout",
     "output_type": "stream",
     "text": [
      "10\n",
      "10**2\n",
      "0.01\n"
     ]
    }
   ],
   "source": [
    "print(10**1)\n",
    "print(\"10**2\")\n",
    "print(10**-2)"
   ]
  },
  {
   "cell_type": "code",
   "execution_count": 2,
   "id": "da05791a-3402-4d3a-9c9b-b36f5db98b5c",
   "metadata": {
    "tags": []
   },
   "outputs": [
    {
     "name": "stdin",
     "output_type": "stream",
     "text": [
      "Enter a number :  .123\n"
     ]
    },
    {
     "name": "stdout",
     "output_type": "stream",
     "text": [
      ".123\n",
      "Length of the text : 4\n"
     ]
    }
   ],
   "source": [
    "text = input(\"Enter a number : \")\n",
    "print(text)\n",
    "print(f\"Length of the text : {len(text)}\")\n",
    "#It includes decimal_point also. bca that is a string."
   ]
  },
  {
   "cell_type": "markdown",
   "id": "da487fa7-6213-4b57-bb67-08b896fc7cc9",
   "metadata": {},
   "source": [
    "# Convert decimal to fracction, percent."
   ]
  },
  {
   "cell_type": "code",
   "execution_count": 11,
   "id": "eccd4817-b2d2-4c7d-b059-ff973f28dcd2",
   "metadata": {
    "tags": []
   },
   "outputs": [
    {
     "name": "stdin",
     "output_type": "stream",
     "text": [
      "Enter a decimal number to convert to fraction :  .2\n"
     ]
    },
    {
     "name": "stdout",
     "output_type": "stream",
     "text": [
      "Fraction is 2/10\n",
      "Percent is 20.0%\n"
     ]
    }
   ],
   "source": [
    "#Take a number as input which is by default a string.\n",
    "decimal = input(\"Enter a decimal number to convert to fraction : \")\n",
    "\n",
    "#Convert it into float\n",
    "decf = float(decimal)\n",
    "\n",
    "#Calculate the length of the string input and convert it into integer and subtract 1 as \".\" isn't considered.\n",
    "n = int(len(decimal)) - 1\n",
    "\n",
    "# Numerator is the number excluding decimal and 0 before decimal multiplied by 10^(length of the number)\n",
    "num = int(decf * 10**n)\n",
    "\n",
    "# Denominator is the 10^(length of the number)\n",
    "den = 10**n\n",
    "\n",
    "# Fraction output is numerator/denominator\n",
    "fraction = print(f\"Fraction is {num}/{den}\")\n",
    "\n",
    "#Percent is the number multiplied by 100. \n",
    "percent = print(f\"Percent is {decf*100}%\")\n"
   ]
  }
 ],
 "metadata": {
  "kernelspec": {
   "display_name": "Python 3 (ipykernel)",
   "language": "python",
   "name": "python3"
  },
  "language_info": {
   "codemirror_mode": {
    "name": "ipython",
    "version": 3
   },
   "file_extension": ".py",
   "mimetype": "text/x-python",
   "name": "python",
   "nbconvert_exporter": "python",
   "pygments_lexer": "ipython3",
   "version": "3.11.1"
  }
 },
 "nbformat": 4,
 "nbformat_minor": 5
}
