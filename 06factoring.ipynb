{
 "cells": [
  {
   "cell_type": "markdown",
   "id": "b9ddbeb0-cd7b-4500-b101-41c51cf2e247",
   "metadata": {},
   "source": [
    "## The modulus (%) finds the remainder."
   ]
  },
  {
   "cell_type": "code",
   "execution_count": 2,
   "id": "ca57c7dd-f4b1-4bcf-bb9f-d030719efdd2",
   "metadata": {
    "tags": []
   },
   "outputs": [
    {
     "name": "stdout",
     "output_type": "stream",
     "text": [
      "2\n",
      "1\n"
     ]
    }
   ],
   "source": [
    "print(5%3)\n",
    "# it gives the reamainder.\n",
    "print(31%10)"
   ]
  },
  {
   "cell_type": "markdown",
   "id": "e80a3079-74e5-485a-b187-af4f57c2e909",
   "metadata": {},
   "source": [
    "### Use modulus function to find factors."
   ]
  },
  {
   "cell_type": "code",
   "execution_count": 3,
   "id": "eba74711-d1dd-4770-80ac-dbe9f85e17d9",
   "metadata": {
    "tags": []
   },
   "outputs": [
    {
     "name": "stdin",
     "output_type": "stream",
     "text": [
      "Enter number =  30\n"
     ]
    },
    {
     "name": "stdout",
     "output_type": "stream",
     "text": [
      "1\n",
      "2\n",
      "3\n",
      "5\n",
      "6\n",
      "10\n",
      "15\n",
      "30\n"
     ]
    }
   ],
   "source": [
    "number = int(input(\"Enter number = \"))\n",
    "\n",
    "# It is number+1 bcz it does not include number+1, it will calculate till number.\n",
    "for test_factor in range(1, number+1):\n",
    "    if number%test_factor == 0:\n",
    "        print(test_factor)"
   ]
  },
  {
   "cell_type": "markdown",
   "id": "025eac21-4ddb-40a8-8bc2-f54575a79de3",
   "metadata": {},
   "source": [
    "### Use modulus function to write in reduced form. like \n",
    "\n",
    "$$\\frac{12}{24} = \\frac{1}{2}$$\n"
   ]
  },
  {
   "cell_type": "code",
   "execution_count": 5,
   "id": "ed3a19f9-18a7-49fb-9972-cb410b845742",
   "metadata": {
    "tags": []
   },
   "outputs": [
    {
     "name": "stdout",
     "output_type": "stream",
     "text": [
      "Original : 6 / 12\n",
      "Reduced : 1/2\n"
     ]
    }
   ],
   "source": [
    "numerator = 6\n",
    "denominator = 12\n",
    "factor = 1\n",
    "\n",
    "# Find the greatest common factor.\n",
    "# The range can be till numerator+1 and denominator+1, bcz it is factor of both.\n",
    "for test_factor in range (1, numerator+1):\n",
    "    if numerator%test_factor == 0 and denominator%test_factor == 0:\n",
    "        factor = test_factor\n",
    "\n",
    "# Divide out greatest common factor.\n",
    "n = int(numerator/factor)\n",
    "d = int(denominator/factor)\n",
    "        \n",
    "print(f\"Original : {numerator} / {denominator}\")\n",
    "print(f\"Reduced : {n}/{d}\")"
   ]
  },
  {
   "cell_type": "markdown",
   "id": "daefeaac-f0a4-4cda-81f0-8d420c3d7de6",
   "metadata": {},
   "source": [
    "### Write reduced form for decimal and fraction numbers \n",
    "\n",
    "by using function"
   ]
  },
  {
   "cell_type": "code",
   "execution_count": 14,
   "id": "dc75e25f-da13-40f3-ab98-7a7f1637a3c1",
   "metadata": {
    "tags": []
   },
   "outputs": [
    {
     "name": "stdin",
     "output_type": "stream",
     "text": [
      "Float or Fraction ? :  fraction\n",
      "Enter numerator:  3\n",
      "Enter denominator:  4\n"
     ]
    },
    {
     "name": "stdout",
     "output_type": "stream",
     "text": [
      "Original fraction: 3 / 4\n",
      "Reduced fraction: 3/4\n"
     ]
    }
   ],
   "source": [
    "def reduced_float(decimal):\n",
    "    #Convert it into float\n",
    "    decf = float(decimal)\n",
    "\n",
    "    #Calculate the length of the string input and convert it into integer and subtract 1 as \".\" isn't considered.\n",
    "    n = int(len(decimal)) - 1\n",
    "\n",
    "    # Numerator is the number excluding decimal and 0 before decimal multiplied by 10^(length of the number)\n",
    "    numerator = int(decf * 10**n)\n",
    "\n",
    "    # Denominator is the 10^(length of the number)\n",
    "    denominator  = 10**n\n",
    "    \n",
    "\n",
    "    \n",
    "def reduced_fraction(numerator, denominator):\n",
    "    for test_factor in range (1, numerator+1):\n",
    "        if numerator%test_factor == 0 and denominator%test_factor == 0:\n",
    "            factor = test_factor\n",
    "\n",
    "    # Divide out greatest common factor.\n",
    "    n = int(numerator/factor)\n",
    "    d = int(denominator/factor)\n",
    "        \n",
    "    print(f\"Original fraction: {numerator} / {denominator}\")\n",
    "    print(f\"Reduced fraction: {n}/{d}\")\n",
    "    \n",
    "    \n",
    "# Ask option to choose between what to convert in reduced form : float or fraction\n",
    "Option = input(\"Float or Fraction ? : \") \n",
    "\n",
    "if Option == \"Float\" or Option == \"float\":\n",
    "    #Take a number as input which is by default a string.\n",
    "    decimal = input(\"Enter a decimal number to convert to reduced fraction : \")\n",
    "    reduced_float(decimal)\n",
    "    reduced_fraction(numerator, denominator)\n",
    "\n",
    "elif Option == \"Fraction\" or \"fraction\":\n",
    "    numerator = int(input(\"Enter numerator: \"))\n",
    "    denominator = int(input(\"Enter denominator: \"))\n",
    "    reduced_fraction(numerator, denominator)\n",
    "    \n",
    "\n",
    "\n",
    "\n",
    "\n",
    "\n",
    "\n",
    "\n"
   ]
  },
  {
   "cell_type": "markdown",
   "id": "97a17813-954f-4969-b391-af175713d204",
   "metadata": {},
   "source": [
    "### Square root"
   ]
  },
  {
   "cell_type": "code",
   "execution_count": 17,
   "id": "44763c1d-3adc-455c-9718-46985b9c6536",
   "metadata": {
    "tags": []
   },
   "outputs": [
    {
     "name": "stdout",
     "output_type": "stream",
     "text": [
      "5.0\n",
      "4.898979485566356\n",
      "3.4641016151377544\n"
     ]
    }
   ],
   "source": [
    "import math\n",
    "print(math.sqrt(25))\n",
    "print(math.sqrt(24))\n",
    "print(math.sqrt(12))"
   ]
  },
  {
   "cell_type": "markdown",
   "id": "b958bcac-737d-404c-bb00-b903a2a475ed",
   "metadata": {},
   "source": [
    "## Divide out any perfect square factors. \n",
    "eg: $\\sqrt{12} = \\sqrt{4*3} = 2 \\sqrt{3}$\n",
    "\n",
    "Because 4 is a square number now square root of 4 is outside radical."
   ]
  },
  {
   "cell_type": "code",
   "execution_count": 40,
   "id": "1615850c-1233-4c10-a5af-507023567572",
   "metadata": {
    "tags": []
   },
   "outputs": [
    {
     "name": "stdout",
     "output_type": "stream",
     "text": [
      "n =  12\n",
      "2\n",
      "Square rooted factor =  2\n",
      "Square factor =  4\n",
      "integer =  3.0\n"
     ]
    }
   ],
   "source": [
    "import math\n",
    "\n",
    "#number to factor\n",
    "n = 12\n",
    "\n",
    "#This variable will change.\n",
    "max_factor = 1\n",
    "\n",
    "#The key ingredient\n",
    "upper_limit = math.floor(math.sqrt(n)) + 1\n",
    "\n",
    "# find square factors\n",
    "for factor in range(1,upper_limit):\n",
    "    if n % (factor**2) == 0:\n",
    "        max_factor = factor\n",
    "        \n",
    "# Results so far\n",
    "print(\"n = \", n)\n",
    "print(max_factor)\n",
    "print(\"Square rooted factor = \", max_factor)\n",
    "print(\"Square factor = \", max_factor**2)\n",
    "print(\"integer = \", n/(max_factor**2))"
   ]
  },
  {
   "cell_type": "markdown",
   "id": "5618438a-7d67-4475-adbf-ee66838e5c2a",
   "metadata": {},
   "source": [
    "# ***Use sympy to make this look nice.***"
   ]
  },
  {
   "cell_type": "code",
   "execution_count": 43,
   "id": "d8cd70d5-c103-41f4-a9c9-f3a4ae53efca",
   "metadata": {
    "tags": []
   },
   "outputs": [
    {
     "data": {
      "text/latex": [
       "$\\displaystyle 2 \\sqrt{3}$"
      ],
      "text/plain": [
       "2*sqrt(3)"
      ]
     },
     "execution_count": 43,
     "metadata": {},
     "output_type": "execute_result"
    }
   ],
   "source": [
    "import math\n",
    "import sympy\n",
    "from sympy import symbols\n",
    "\n",
    "n = 12\n",
    "upper_limit = math.floor(math.sqrt(n)) + 1\n",
    "max_factor = 1\n",
    "other_factor = 1\n",
    "square_root = 1\n",
    "\n",
    "for factor in range(1, upper_limit):\n",
    "    if n % (factor**2) == 0:\n",
    "        max_factor = factor**2\n",
    "        \n",
    "other_factor = n/max_factor\n",
    "\n",
    "square_root = int(math.sqrt(max_factor))\n",
    "other_factor = int(other_factor)\n",
    "output = square_root*sympy.sqrt(other_factor)\n",
    "\n",
    "#If you use print statement, It will display differently.\n",
    "print(output)\n",
    "\n",
    "# sympy output without print statement - must be last line.\n",
    "output"
   ]
  }
 ],
 "metadata": {
  "kernelspec": {
   "display_name": "Python 3 (ipykernel)",
   "language": "python",
   "name": "python3"
  },
  "language_info": {
   "codemirror_mode": {
    "name": "ipython",
    "version": 3
   },
   "file_extension": ".py",
   "mimetype": "text/x-python",
   "name": "python",
   "nbconvert_exporter": "python",
   "pygments_lexer": "ipython3",
   "version": "3.11.1"
  }
 },
 "nbformat": 4,
 "nbformat_minor": 5
}
