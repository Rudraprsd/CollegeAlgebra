{
 "cells": [
  {
   "cell_type": "markdown",
   "id": "6fcf5995-f196-4e1d-8733-1cade037495c",
   "metadata": {},
   "source": [
    "## Imports run this once"
   ]
  },
  {
   "cell_type": "code",
   "execution_count": null,
   "id": "1728a92c-f560-4921-9468-978796bcd7fb",
   "metadata": {},
   "outputs": [],
   "source": [
    "import pandas as pd\n",
    "# pandas for row column thing\n",
    "import matplotlib.pyplot as plt\n",
    "import io\n",
    "# io input output"
   ]
  },
  {
   "cell_type": "markdown",
   "id": "674b06eb-865a-4b19-9b7c-10352a88a026",
   "metadata": {},
   "source": [
    "## Upload .csv file from your computer (one option)"
   ]
  },
  {
   "cell_type": "code",
   "execution_count": null,
   "id": "7cfd700d-4ace-4c39-88cb-91acf34d0d82",
   "metadata": {},
   "outputs": [],
   "source": []
  }
 ],
 "metadata": {
  "kernelspec": {
   "display_name": "Python 3 (ipykernel)",
   "language": "python",
   "name": "python3"
  },
  "language_info": {
   "codemirror_mode": {
    "name": "ipython",
    "version": 3
   },
   "file_extension": ".py",
   "mimetype": "text/x-python",
   "name": "python",
   "nbconvert_exporter": "python",
   "pygments_lexer": "ipython3",
   "version": "3.11.1"
  }
 },
 "nbformat": 4,
 "nbformat_minor": 5
}
