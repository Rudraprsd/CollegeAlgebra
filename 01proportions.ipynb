{
 "cells": [
  {
   "cell_type": "markdown",
   "metadata": {
    "id": "CPmX3lDClo7H"
   },
   "source": [
    "**Kindly see the format of code at every section.**"
   ]
  },
  {
   "cell_type": "markdown",
   "metadata": {
    "id": "X3vN6lcTQ99y"
   },
   "source": [
    "Set up a proportion :\n",
    "$\\frac{n1}{d1} = \\frac{n2}{d2}$\n",
    "  \n",
    "\n",
    "\n",
    "\n"
   ]
  },
  {
   "cell_type": "code",
   "execution_count": 4,
   "metadata": {
    "colab": {
     "base_uri": "https://localhost:8080/"
    },
    "executionInfo": {
     "elapsed": 2,
     "status": "ok",
     "timestamp": 1683615943251,
     "user": {
      "displayName": "Rudra prasad sahu 21056",
      "userId": "17288802922144344489"
     },
     "user_tz": -330
    },
    "id": "qxclq_FZSGS9",
    "outputId": "80adb51c-57e3-4df8-c957-b08ad6f6329d"
   },
   "outputs": [
    {
     "name": "stdout",
     "output_type": "stream",
     "text": [
      "n2 =  6.67\n"
     ]
    }
   ],
   "source": [
    "#put zero for unknown value\n",
    "\n",
    "n1 = 5 \n",
    "d1 = 6\n",
    "n2 = 0\n",
    "d2 = 8\n",
    "\n",
    "if n2==0:\n",
    "    ans = n1 * d2 / d1\n",
    "    print(\"n2 = \", format(ans, \".2f\"))\n",
    "    # the answer rounded off to 2 decimal places.\n",
    "\n",
    "if d2==0:\n",
    "    ans = n2 * d2 / n1\n",
    "    print(f\"d2 = {ans}\")"
   ]
  },
  {
   "cell_type": "markdown",
   "metadata": {
    "id": "yIeg3qkaZ8uk"
   },
   "source": [
    "\n",
    "\n",
    "# Continuous decimal to fraction"
   ]
  },
  {
   "cell_type": "markdown",
   "metadata": {
    "id": "Uun02we_Q728"
   },
   "source": [
    "let x = .66666666 it is continuous.\n",
    "to convert it in to fraction, trick ;\n",
    "10x = 6.666666666\n",
    "10x - x = 9x = 6\n",
    "x = $\\frac{6}{9}$ [fraction format]"
   ]
  },
  {
   "cell_type": "markdown",
   "metadata": {
    "id": "OGRx_KtBgwYU"
   },
   "source": [
    "# Extra Problems on this\n",
    "\n",
    "USD to INR\n",
    "\n"
   ]
  },
  {
   "cell_type": "code",
   "execution_count": 7,
   "metadata": {
    "colab": {
     "base_uri": "https://localhost:8080/"
    },
    "executionInfo": {
     "elapsed": 3914,
     "status": "ok",
     "timestamp": 1683619553325,
     "user": {
      "displayName": "Rudra prasad sahu 21056",
      "userId": "17288802922144344489"
     },
     "user_tz": -330
    },
    "id": "o9vwmHDOhMRo",
    "outputId": "ccbab9b8-916e-4d24-b524-200c8ee773dc"
   },
   "outputs": [
    {
     "name": "stdout",
     "output_type": "stream",
     "text": [
      "Enter USD: 5\n",
      "5.0 USD to INR is  410.50\n"
     ]
    }
   ],
   "source": [
    "usd = float(input(\"Enter USD: \"))\n",
    "inr = float(usd * 82.10)\n",
    "print(f\"{usd} USD to INR is \", format(inr, \".2f\"))\n"
   ]
  },
  {
   "cell_type": "markdown",
   "metadata": {
    "id": "4k57xQGVjAvJ"
   },
   "source": [
    "# Solving for x\n",
    "\n",
    "Solving for x. the variable ```eq``` is set equation to zero. This will print an array of equations. \n",
    "\n",
    "\n"
   ]
  },
  {
   "cell_type": "code",
   "execution_count": 8,
   "metadata": {
    "colab": {
     "base_uri": "https://localhost:8080/"
    },
    "executionInfo": {
     "elapsed": 480,
     "status": "ok",
     "timestamp": 1683620241656,
     "user": {
      "displayName": "Rudra prasad sahu 21056",
      "userId": "17288802922144344489"
     },
     "user_tz": -330
    },
    "id": "fDjeqltKlChh",
    "outputId": "5e20efc8-958a-43bd-ffe7-30ee81d69ffb"
   },
   "outputs": [
    {
     "name": "stdout",
     "output_type": "stream",
     "text": [
      "x = [5]\n"
     ]
    }
   ],
   "source": [
    "import sympy\n",
    "from sympy import symbols\n",
    "from sympy.solvers import solve\n",
    "\n",
    "x = symbols('x')\n",
    "\n",
    "#put your equation here\n",
    "eq = x - 5\n",
    "print(f\"x = {solve(eq,x)}\")"
   ]
  },
  {
   "cell_type": "code",
   "execution_count": 10,
   "metadata": {
    "colab": {
     "base_uri": "https://localhost:8080/"
    },
    "executionInfo": {
     "elapsed": 443,
     "status": "ok",
     "timestamp": 1683621017673,
     "user": {
      "displayName": "Rudra prasad sahu 21056",
      "userId": "17288802922144344489"
     },
     "user_tz": -330
    },
    "id": "UZpVdxvNmtHh",
    "outputId": "477786a6-877b-4b97-e594-fa0cc744d2db"
   },
   "outputs": [
    {
     "data": {
      "text/plain": [
       "[-sqrt(2)*I/2, sqrt(2)*I/2]"
      ]
     },
     "execution_count": 10,
     "metadata": {},
     "output_type": "execute_result"
    }
   ],
   "source": [
    "import sympy \n",
    "from sympy import symbols\n",
    "from sympy.solvers import solve\n",
    "\n",
    "x = symbols('x')\n",
    "\n",
    "eq = 2*x**2 + 1\n",
    "solve(eq,x)\n",
    "# for square ** remember the format\n",
    "# you don't need to even write print function, if you just need answer. solve function froom sympy will do that. \n",
    "# In solution the I is the complex number I."
   ]
  },
  {
   "cell_type": "markdown",
   "metadata": {
    "id": "EjBvTwNIo7yc"
   },
   "source": [
    "You may not get the importance of solve function from sympy. You will get that here. \n",
    "Instead of writing different calculations for different equations, solve function will solve all the problem. the square braces around the solution means it is a finite set."
   ]
  },
  {
   "cell_type": "code",
   "execution_count": 12,
   "metadata": {
    "colab": {
     "base_uri": "https://localhost:8080/"
    },
    "executionInfo": {
     "elapsed": 8040,
     "status": "ok",
     "timestamp": 1683621769017,
     "user": {
      "displayName": "Rudra prasad sahu 21056",
      "userId": "17288802922144344489"
     },
     "user_tz": -330
    },
    "id": "ercT24EyoWqg",
    "outputId": "2dca9440-4bfe-4569-9ab5-801838d03b21"
   },
   "outputs": [
    {
     "name": "stdout",
     "output_type": "stream",
     "text": [
      "Enter equation: 0 = x**2 - 4\n",
      "x = [-2, 2]\n"
     ]
    }
   ],
   "source": [
    "import sympy \n",
    "from sympy import symbols\n",
    "from sympy.solvers import solve\n",
    "\n",
    "x = symbols('x')\n",
    "eq = input(\"Enter equation: 0 = \")\n",
    "\n",
    "print(f\"x = {solve(eq,x)}\")"
   ]
  },
  {
   "cell_type": "markdown",
   "metadata": {
    "id": "JBmMBu7UsvYe"
   },
   "source": [
    "What if I want only one answer among the two solutions like above ?\n",
    "Here we have used indexing. In python index starts from 0 whereas in matlab index starts from 1.\n"
   ]
  },
  {
   "cell_type": "code",
   "execution_count": 13,
   "metadata": {
    "colab": {
     "base_uri": "https://localhost:8080/"
    },
    "executionInfo": {
     "elapsed": 450,
     "status": "ok",
     "timestamp": 1683622275088,
     "user": {
      "displayName": "Rudra prasad sahu 21056",
      "userId": "17288802922144344489"
     },
     "user_tz": -330
    },
    "id": "qNJ0t3wYs3Mf",
    "outputId": "1f7dc313-e10f-49ca-b6f3-8391682f6bc7"
   },
   "outputs": [
    {
     "name": "stdout",
     "output_type": "stream",
     "text": [
      "x = -2\n"
     ]
    }
   ],
   "source": [
    "import sympy \n",
    "from sympy import symbols\n",
    "from sympy.solvers import solve\n",
    "\n",
    "x = symbols('x')\n",
    "eq = 2*x**2 - 8\n",
    "\n",
    "solution = solve(eq,x)\n",
    "print(f\"x = {solution[0]}\")"
   ]
  },
  {
   "cell_type": "markdown",
   "metadata": {
    "id": "x2mbtXmZtwYg"
   },
   "source": [
    "  To write all the solutions separately, We can use for loop."
   ]
  },
  {
   "cell_type": "code",
   "execution_count": 14,
   "metadata": {
    "colab": {
     "base_uri": "https://localhost:8080/"
    },
    "executionInfo": {
     "elapsed": 48775,
     "status": "ok",
     "timestamp": 1683622747005,
     "user": {
      "displayName": "Rudra prasad sahu 21056",
      "userId": "17288802922144344489"
     },
     "user_tz": -330
    },
    "id": "aC7Ecoqkue62",
    "outputId": "9b9fda39-288b-46ab-de34-5fcf83fc8c5c"
   },
   "outputs": [
    {
     "name": "stdout",
     "output_type": "stream",
     "text": [
      "Enter equation: 0 = (x-1) * (x+1) * (x-3)\n",
      "x = -1\n",
      "x = 1\n",
      "x = 3\n"
     ]
    }
   ],
   "source": [
    "import sympy \n",
    "from sympy import symbols\n",
    "from sympy.solvers import solve\n",
    "\n",
    "x = symbols('x')\n",
    "eq = input(\"Enter equation: 0 = \")\n",
    "solution = solve(eq,x)\n",
    "\n",
    "for i in solution:\n",
    "    print(f\"x = {i}\")"
   ]
  },
  {
   "cell_type": "markdown",
   "metadata": {
    "id": "8eIAXQwmzUo4"
   },
   "source": [
    "Solve for multiple variable\n"
   ]
  },
  {
   "cell_type": "code",
   "execution_count": 18,
   "metadata": {
    "colab": {
     "base_uri": "https://localhost:8080/"
    },
    "executionInfo": {
     "elapsed": 604,
     "status": "ok",
     "timestamp": 1683624261100,
     "user": {
      "displayName": "Rudra prasad sahu 21056",
      "userId": "17288802922144344489"
     },
     "user_tz": -330
    },
    "id": "3aiQP-uKzZ9w",
    "outputId": "3aaa4c96-bd75-4715-fd62-b81ed9e78da3"
   },
   "outputs": [
    {
     "name": "stdout",
     "output_type": "stream",
     "text": [
      "x = [y/2 - 5]\n",
      "x in number = y/2 - 5\n"
     ]
    }
   ],
   "source": [
    "import sympy \n",
    "from sympy import *\n",
    "\n",
    "var('x, y')\n",
    "\n",
    "first = 2*x + 10\n",
    "#here, Eq function will define the value of first == y. where as the default\n",
    "# value of first here is 0. \n",
    "eq1 = Eq(first,y)\n",
    "sol = solve(eq1, x)\n",
    "\n",
    "# this will result x in a set or array.\n",
    "print(f\"x = {sol}\")\n",
    "print(f\"x in number = {sol[0]}\")"
   ]
  },
  {
   "cell_type": "markdown",
   "metadata": {
    "id": "iEgp2aXo19i-"
   },
   "source": [
    "Above code in another format for two variable. But all have their own purposes. I guess the above code may have some professional applications. "
   ]
  },
  {
   "cell_type": "code",
   "execution_count": 19,
   "metadata": {
    "colab": {
     "base_uri": "https://localhost:8080/"
    },
    "executionInfo": {
     "elapsed": 432,
     "status": "ok",
     "timestamp": 1683624700689,
     "user": {
      "displayName": "Rudra prasad sahu 21056",
      "userId": "17288802922144344489"
     },
     "user_tz": -330
    },
    "id": "lt-cIYXo2EEP",
    "outputId": "a6cc54fc-e233-46e4-999b-0aefcfdf4ddb"
   },
   "outputs": [
    {
     "name": "stdout",
     "output_type": "stream",
     "text": [
      "x = [y/2 - 5]\n",
      "x in number = y/2 - 5\n"
     ]
    }
   ],
   "source": [
    "import sympy \n",
    "from sympy import *\n",
    "\n",
    "var('x, y')\n",
    "\n",
    "first = 2*x + 10 - y\n",
    "# here - y same as y on LHS\n",
    "# eq1 = Eq(first,y)\n",
    "sol = solve(first, x)\n",
    "\n",
    "# this will result x in a set or array.\n",
    "print(f\"x = {sol}\")\n",
    "print(f\"x in number = {sol[0]}\")"
   ]
  },
  {
   "cell_type": "markdown",
   "metadata": {
    "id": "vW4D-20Z36-5"
   },
   "source": [
    "Factoring"
   ]
  },
  {
   "cell_type": "code",
   "execution_count": 26,
   "metadata": {
    "colab": {
     "base_uri": "https://localhost:8080/"
    },
    "executionInfo": {
     "elapsed": 456,
     "status": "ok",
     "timestamp": 1683626067229,
     "user": {
      "displayName": "Rudra prasad sahu 21056",
      "userId": "17288802922144344489"
     },
     "user_tz": -330
    },
    "id": "VLrRfhL33ib9",
    "outputId": "47b58290-a0b0-4984-91ff-62f6a4db0838"
   },
   "outputs": [
    {
     "name": "stdout",
     "output_type": "stream",
     "text": [
      "first = 2*(x + 5*y + 2)\n",
      "second = 3*m + 10*n + 5\n",
      "Third = (x - 2)*(x + 2)\n"
     ]
    }
   ],
   "source": [
    "import sympy\n",
    "from sympy import symbols \n",
    "\n",
    "var('x, y, m, n')\n",
    "\n",
    "eq = 2*x + 10*y + 4\n",
    "eq1 = 3*m + 10*n + 5\n",
    "eq2 = x**2 - 4\n",
    "\n",
    "print(f\"first = {sympy.factor(eq)}\")\n",
    "print(f\"second = {sympy.factor(eq1)}\")\n",
    "print(f\"Third = {sympy.factor(eq2)}\")"
   ]
  },
  {
   "cell_type": "markdown",
   "metadata": {
    "id": "m6gYxYVU8SIr"
   },
   "source": [
    "Factoring ( see the solution style and compare above and below code.) "
   ]
  },
  {
   "cell_type": "code",
   "execution_count": 31,
   "metadata": {
    "colab": {
     "base_uri": "https://localhost:8080/",
     "height": 56
    },
    "executionInfo": {
     "elapsed": 1012,
     "status": "ok",
     "timestamp": 1683626846976,
     "user": {
      "displayName": "Rudra prasad sahu 21056",
      "userId": "17288802922144344489"
     },
     "user_tz": -330
    },
    "id": "ylKxkDN27z-6",
    "outputId": "b1112a00-3e93-4fa0-97cd-94c65dad59aa"
   },
   "outputs": [
    {
     "name": "stdout",
     "output_type": "stream",
     "text": [
      "first = (x - 2)*(x + 2)\n"
     ]
    },
    {
     "data": {
      "text/latex": [
       "$\\displaystyle \\left(x - 3\\right) \\left(x - 1\\right) \\left(x + 2\\right)$"
      ],
      "text/plain": [
       "(x - 3)*(x - 1)*(x + 2)"
      ]
     },
     "execution_count": 31,
     "metadata": {},
     "output_type": "execute_result"
    }
   ],
   "source": [
    "import sympy\n",
    "from sympy import symbols \n",
    "\n",
    "var('x, y')\n",
    "\n",
    "eq2 = x**2 - 4\n",
    "\n",
    "print(f\"first  = {sympy.factor(eq2)}\")\n",
    "\n",
    "eq = x**3 - 2*x**2 - 5*x + 6\n",
    "\n",
    "sympy.factor(eq)"
   ]
  }
 ],
 "metadata": {
  "colab": {
   "authorship_tag": "ABX9TyP3px9q6YkxaVrDw+rBmxJP",
   "provenance": [],
   "toc_visible": true
  },
  "kernelspec": {
   "display_name": "Python 3 (ipykernel)",
   "language": "python",
   "name": "python3"
  },
  "language_info": {
   "codemirror_mode": {
    "name": "ipython",
    "version": 3
   },
   "file_extension": ".py",
   "mimetype": "text/x-python",
   "name": "python",
   "nbconvert_exporter": "python",
   "pygments_lexer": "ipython3",
   "version": "3.11.1"
  }
 },
 "nbformat": 4,
 "nbformat_minor": 4
}
